{
 "cells": [
  {
   "cell_type": "code",
   "execution_count": 1,
   "metadata": {},
   "outputs": [],
   "source": [
    "import sys\n",
    "import os\n",
    "from pathlib import Path\n",
    "from multiprocessing import cpu_count, Pool\n",
    "\n",
    "import numpy as np\n",
    "import pandas as pd\n",
    "from glob import glob\n",
    "from tqdm import tqdm\n",
    "\n",
    "import librosa\n",
    "import matplotlib.pyplot as plt\n",
    "import seaborn as sns\n",
    "\n",
    "from sklearn.preprocessing import StandardScaler, OneHotEncoder, LabelEncoder\n",
    "from sklearn.metrics import confusion_matrix, classification_report\n",
    "from sklearn.model_selection import train_test_split\n",
    "\n",
    "from IPython.display import Audio\n",
    "\n",
    "import tensorflow as tf\n",
    "from tensorflow.keras.callbacks import ReduceLROnPlateau, ModelCheckpoint\n",
    "from tensorflow.keras.models import Sequential\n",
    "from tensorflow.keras.layers import Dense, Conv1D, MaxPooling1D, Flatten, Dropout, BatchNormalization\n",
    "from tensorflow.keras.utils import to_categorical\n",
    "from tensorflow.keras.metrics import Precision, Recall\n",
    "\n",
    "import warnings\n",
    "if not sys.warnoptions:\n",
    "    warnings.simplefilter('ignore')\n",
    "warnings.filterwarnings('ignore', category=DeprecationWarning)\n",
    "\n",
    "gpus = tf.config.experimental.list_physical_devices('GPU')\n",
    "if gpus:\n",
    "    try:\n",
    "        tf.config.experimental.set_memory_growth(gpus[0], True)\n",
    "    except RuntimeError as e:\n",
    "        print(e)"
   ]
  },
  {
   "cell_type": "code",
   "execution_count": 2,
   "metadata": {},
   "outputs": [],
   "source": [
    "RAW_PATH = \"../TIM-Net_SER/Code/RawData\"\n",
    "THREADS = 50"
   ]
  },
  {
   "attachments": {},
   "cell_type": "markdown",
   "metadata": {},
   "source": [
    "## Load Data"
   ]
  },
  {
   "cell_type": "code",
   "execution_count": 3,
   "metadata": {},
   "outputs": [
    {
     "name": "stdout",
     "output_type": "stream",
     "text": [
      "['angry' 'calm' 'disgust' 'fear' 'happy' 'neutral' 'sad' 'surprise']\n",
      "[array([0, 1, 2, 3, 4, 5, 6, 7])]\n"
     ]
    }
   ],
   "source": [
    "df_train_map = pd.read_csv(os.path.join(RAW_PATH, 'train_data.csv'))\n",
    "df_test_map = pd.read_csv(os.path.join(RAW_PATH, 'test_data.csv'))\n",
    "df_train_map['name'] = df_train_map['name'].str.replace('.mp4', '.wav', regex=False)\n",
    "df_test_map['name'] = df_test_map['name'].str.replace('.mp4', '.wav', regex=False)\n",
    "\n",
    "lbec = LabelEncoder().fit(df_train_map['emotion'])\n",
    "df_train_map['emotion'] = lbec.transform(df_train_map['emotion'])\n",
    "df_test_map['emotion'] = lbec.transform(df_test_map['emotion'])\n",
    "print(lbec.classes_)\n",
    "\n",
    "ohec = OneHotEncoder().fit(df_train_map[['emotion']])\n",
    "train_y = ohec.transform(df_train_map[['emotion']]).toarray()\n",
    "test_y = ohec.transform(df_test_map[['emotion']]).toarray()\n",
    "print(ohec.categories_)\n",
    "# lbec.inverse_transform()"
   ]
  },
  {
   "cell_type": "code",
   "execution_count": 4,
   "metadata": {},
   "outputs": [],
   "source": [
    "df_train_map['fullpath'] = RAW_PATH + '/' + df_train_map['source'] + '/' + df_train_map['name']\n",
    "df_test_map['fullpath'] = RAW_PATH + '/' + df_test_map['source'] + '/' + df_test_map['name']\n",
    "ls_train_fullpath = df_train_map['fullpath'].tolist()\n",
    "ls_test_fullpath = df_test_map['fullpath'].tolist()"
   ]
  },
  {
   "attachments": {},
   "cell_type": "markdown",
   "metadata": {},
   "source": [
    "## Feature Extraction"
   ]
  },
  {
   "cell_type": "code",
   "execution_count": 5,
   "metadata": {},
   "outputs": [],
   "source": [
    "def extract_features(filepath):\n",
    "    data, sample_rate = librosa.load(filepath)\n",
    "    # ZCR\n",
    "    zcr = np.mean(librosa.feature.zero_crossing_rate(y=data).T, axis=0)\n",
    "    \n",
    "    # Chroma_stft\n",
    "    stft = np.abs(librosa.stft(data))\n",
    "    chroma_stf = np.mean(librosa.feature.chroma_stft(S=stft, sr=sample_rate).T, axis=0)\n",
    "\n",
    "    # MFCC\n",
    "    mfcc = np.mean(librosa.feature.mfcc(y=data, sr=sample_rate).T, axis=0)\n",
    "\n",
    "    # Root Mean Square Value\n",
    "    rms = np.mean(librosa.feature.rms(y=data).T, axis=0)\n",
    "\n",
    "    # MelSpectogram\n",
    "    mel = np.mean(librosa.feature.melspectrogram(y=data, sr=sample_rate).T, axis=0)\n",
    "\n",
    "    result = np.hstack((zcr, chroma_stf, mfcc, rms, mel))\n",
    "    return result"
   ]
  },
  {
   "cell_type": "code",
   "execution_count": 6,
   "metadata": {},
   "outputs": [
    {
     "name": "stderr",
     "output_type": "stream",
     "text": [
      "100%|██████████| 20310/20310 [13:55<00:00, 24.30it/s]\n",
      "100%|██████████| 5078/5078 [03:25<00:00, 24.75it/s]\n"
     ]
    }
   ],
   "source": [
    "pool = Pool(THREADS)\n",
    "train_X = list(tqdm(pool.imap(extract_features, ls_train_fullpath), total=len(ls_train_fullpath)))\n",
    "train_X = np.array(train_X)\n",
    "test_X = list(tqdm(pool.imap(extract_features, ls_test_fullpath), total=len(ls_test_fullpath)))\n",
    "test_X = np.array(test_X)"
   ]
  },
  {
   "cell_type": "code",
   "execution_count": 9,
   "metadata": {},
   "outputs": [],
   "source": [
    "np.save('features/MERGE_TRAIN_BASELINE.npy', {'x': train_X, 'y': train_y}, allow_pickle=True)\n",
    "np.save('features/MERGE_TEST_BASELINE.npy', {'x': test_X, 'y': test_y}, allow_pickle=True)"
   ]
  },
  {
   "attachments": {},
   "cell_type": "markdown",
   "metadata": {},
   "source": [
    "## Data Preprocessing"
   ]
  },
  {
   "cell_type": "code",
   "execution_count": 12,
   "metadata": {},
   "outputs": [
    {
     "name": "stdout",
     "output_type": "stream",
     "text": [
      "Train X Shape  : (20310, 162)\n",
      "Train y Shape  : (20310, 8)\n",
      "Test X Shape   : (5078, 162)\n",
      "Test y Shape   : (5078, 8)\n"
     ]
    }
   ],
   "source": [
    "print(f\"{'Train X Shape':<15}: {train_X.shape}\")\n",
    "print(f\"{'Train y Shape':<15}: {train_y.shape}\")\n",
    "\n",
    "print(f\"{'Test X Shape':<15}: {test_X.shape}\")\n",
    "print(f\"{'Test y Shape':<15}: {test_y.shape}\")"
   ]
  },
  {
   "cell_type": "code",
   "execution_count": 13,
   "metadata": {},
   "outputs": [],
   "source": [
    "scaler = StandardScaler()\n",
    "train_X = scaler.fit_transform(train_X)\n",
    "test_X = scaler.transform(test_X)\n",
    "\n",
    "train_X = np.expand_dims(train_X, axis=2)\n",
    "test_X = np.expand_dims(test_X, axis=2)"
   ]
  },
  {
   "attachments": {},
   "cell_type": "markdown",
   "metadata": {},
   "source": [
    "## Model"
   ]
  },
  {
   "cell_type": "code",
   "execution_count": 41,
   "metadata": {},
   "outputs": [],
   "source": [
    "BATCH_SIZE = 256\n",
    "EPOCHS = 120\n",
    "LR = 1e-4"
   ]
  },
  {
   "cell_type": "code",
   "execution_count": 42,
   "metadata": {},
   "outputs": [
    {
     "name": "stderr",
     "output_type": "stream",
     "text": [
      "WARNING:absl:`lr` is deprecated, please use `learning_rate` instead, or use the legacy optimizer, e.g.,tf.keras.optimizers.legacy.Adam.\n"
     ]
    },
    {
     "name": "stdout",
     "output_type": "stream",
     "text": [
      "Model: \"sequential_3\"\n",
      "_________________________________________________________________\n",
      " Layer (type)                Output Shape              Param #   \n",
      "=================================================================\n",
      " conv1d_12 (Conv1D)          (None, 162, 256)          1536      \n",
      "                                                                 \n",
      " max_pooling1d_12 (MaxPoolin  (None, 81, 256)          0         \n",
      " g1D)                                                            \n",
      "                                                                 \n",
      " conv1d_13 (Conv1D)          (None, 81, 256)           327936    \n",
      "                                                                 \n",
      " max_pooling1d_13 (MaxPoolin  (None, 41, 256)          0         \n",
      " g1D)                                                            \n",
      "                                                                 \n",
      " conv1d_14 (Conv1D)          (None, 41, 128)           163968    \n",
      "                                                                 \n",
      " max_pooling1d_14 (MaxPoolin  (None, 21, 128)          0         \n",
      " g1D)                                                            \n",
      "                                                                 \n",
      " dropout_6 (Dropout)         (None, 21, 128)           0         \n",
      "                                                                 \n",
      " conv1d_15 (Conv1D)          (None, 21, 64)            41024     \n",
      "                                                                 \n",
      " max_pooling1d_15 (MaxPoolin  (None, 11, 64)           0         \n",
      " g1D)                                                            \n",
      "                                                                 \n",
      " flatten_3 (Flatten)         (None, 704)               0         \n",
      "                                                                 \n",
      " dense_6 (Dense)             (None, 32)                22560     \n",
      "                                                                 \n",
      " dropout_7 (Dropout)         (None, 32)                0         \n",
      "                                                                 \n",
      " dense_7 (Dense)             (None, 8)                 264       \n",
      "                                                                 \n",
      "=================================================================\n",
      "Total params: 557,288\n",
      "Trainable params: 557,288\n",
      "Non-trainable params: 0\n",
      "_________________________________________________________________\n",
      "None\n"
     ]
    }
   ],
   "source": [
    "def get_SER_model():\n",
    "    model = Sequential()\n",
    "    model.add(Conv1D(256, kernel_size=5, strides=1, padding='same', activation='relu', input_shape=(train_X.shape[1], 1)))\n",
    "    model.add(MaxPooling1D(pool_size=5, strides=2, padding='same'))\n",
    "\n",
    "    model.add(Conv1D(256, kernel_size=5, strides=1, padding='same', activation='relu'))\n",
    "    model.add(MaxPooling1D(pool_size=5, strides=2, padding='same'))\n",
    "\n",
    "    model.add(Conv1D(128, kernel_size=5, strides=1, padding='same', activation='relu'))\n",
    "    model.add(MaxPooling1D(pool_size=5, strides=2, padding='same'))\n",
    "    model.add(Dropout(0.2))\n",
    "\n",
    "    model.add(Conv1D(64, kernel_size=5, strides=1, padding='same', activation='relu'))\n",
    "    model.add(MaxPooling1D(pool_size=5, strides=2, padding='same'))\n",
    "\n",
    "    model.add(Flatten())\n",
    "    model.add(Dense(units=32, activation='relu'))\n",
    "    model.add(Dropout(0.3))\n",
    "\n",
    "    model.add(Dense(units=8, activation='softmax'))\n",
    "    optimizer = tf.keras.optimizers.Adam(lr=LR)\n",
    "    model.compile(optimizer=optimizer, loss='categorical_crossentropy', metrics=['accuracy', Precision(), Recall()])\n",
    "\n",
    "    print(model.summary())\n",
    "\n",
    "    return model\n",
    "\n",
    "model = get_SER_model()\n"
   ]
  },
  {
   "cell_type": "code",
   "execution_count": 43,
   "metadata": {},
   "outputs": [
    {
     "name": "stdout",
     "output_type": "stream",
     "text": [
      "Epoch 1/120\n",
      "77/80 [===========================>..] - ETA: 0s - loss: 1.8829 - accuracy: 0.3074 - precision_3: 0.5006 - recall_3: 0.0222\n",
      "Epoch 1: val_loss improved from inf to 1.70276, saving model to chekcpoint\n"
     ]
    },
    {
     "name": "stderr",
     "output_type": "stream",
     "text": [
      "WARNING:absl:Found untraced functions such as _jit_compiled_convolution_op, _jit_compiled_convolution_op, _jit_compiled_convolution_op, _jit_compiled_convolution_op while saving (showing 4 of 4). These functions will not be directly callable after loading.\n"
     ]
    },
    {
     "name": "stdout",
     "output_type": "stream",
     "text": [
      "INFO:tensorflow:Assets written to: chekcpoint/assets\n"
     ]
    },
    {
     "name": "stderr",
     "output_type": "stream",
     "text": [
      "INFO:tensorflow:Assets written to: chekcpoint/assets\n"
     ]
    },
    {
     "name": "stdout",
     "output_type": "stream",
     "text": [
      "80/80 [==============================] - 5s 34ms/step - loss: 1.8794 - accuracy: 0.3099 - precision_3: 0.5059 - recall_3: 0.0232 - val_loss: 1.7028 - val_accuracy: 0.3937 - val_precision_3: 0.6036 - val_recall_3: 0.0201 - lr: 0.0010\n",
      "Epoch 2/120\n",
      "79/80 [============================>.] - ETA: 0s - loss: 1.7020 - accuracy: 0.3847 - precision_3: 0.5522 - recall_3: 0.0920\n",
      "Epoch 2: val_loss improved from 1.70276 to 1.63408, saving model to chekcpoint\n"
     ]
    },
    {
     "name": "stderr",
     "output_type": "stream",
     "text": [
      "WARNING:absl:Found untraced functions such as _jit_compiled_convolution_op, _jit_compiled_convolution_op, _jit_compiled_convolution_op, _jit_compiled_convolution_op while saving (showing 4 of 4). These functions will not be directly callable after loading.\n"
     ]
    },
    {
     "name": "stdout",
     "output_type": "stream",
     "text": [
      "INFO:tensorflow:Assets written to: chekcpoint/assets\n"
     ]
    },
    {
     "name": "stderr",
     "output_type": "stream",
     "text": [
      "INFO:tensorflow:Assets written to: chekcpoint/assets\n"
     ]
    },
    {
     "name": "stdout",
     "output_type": "stream",
     "text": [
      "80/80 [==============================] - 2s 30ms/step - loss: 1.7015 - accuracy: 0.3850 - precision_3: 0.5533 - recall_3: 0.0925 - val_loss: 1.6341 - val_accuracy: 0.4072 - val_precision_3: 0.5373 - val_recall_3: 0.1944 - lr: 0.0010\n",
      "Epoch 3/120\n",
      "77/80 [===========================>..] - ETA: 0s - loss: 1.6193 - accuracy: 0.4085 - precision_3: 0.5995 - recall_3: 0.1392\n",
      "Epoch 3: val_loss improved from 1.63408 to 1.54849, saving model to chekcpoint\n"
     ]
    },
    {
     "name": "stderr",
     "output_type": "stream",
     "text": [
      "WARNING:absl:Found untraced functions such as _jit_compiled_convolution_op, _jit_compiled_convolution_op, _jit_compiled_convolution_op, _jit_compiled_convolution_op while saving (showing 4 of 4). These functions will not be directly callable after loading.\n"
     ]
    },
    {
     "name": "stdout",
     "output_type": "stream",
     "text": [
      "INFO:tensorflow:Assets written to: chekcpoint/assets\n"
     ]
    },
    {
     "name": "stderr",
     "output_type": "stream",
     "text": [
      "INFO:tensorflow:Assets written to: chekcpoint/assets\n"
     ]
    },
    {
     "name": "stdout",
     "output_type": "stream",
     "text": [
      "80/80 [==============================] - 3s 35ms/step - loss: 1.6197 - accuracy: 0.4084 - precision_3: 0.5998 - recall_3: 0.1387 - val_loss: 1.5485 - val_accuracy: 0.4421 - val_precision_3: 0.7610 - val_recall_3: 0.0853 - lr: 0.0010\n",
      "Epoch 4/120\n",
      "80/80 [==============================] - ETA: 0s - loss: 1.5743 - accuracy: 0.4235 - precision_3: 0.6203 - recall_3: 0.1562\n",
      "Epoch 4: val_loss improved from 1.54849 to 1.50176, saving model to chekcpoint\n"
     ]
    },
    {
     "name": "stderr",
     "output_type": "stream",
     "text": [
      "WARNING:absl:Found untraced functions such as _jit_compiled_convolution_op, _jit_compiled_convolution_op, _jit_compiled_convolution_op, _jit_compiled_convolution_op while saving (showing 4 of 4). These functions will not be directly callable after loading.\n"
     ]
    },
    {
     "name": "stdout",
     "output_type": "stream",
     "text": [
      "INFO:tensorflow:Assets written to: chekcpoint/assets\n"
     ]
    },
    {
     "name": "stderr",
     "output_type": "stream",
     "text": [
      "INFO:tensorflow:Assets written to: chekcpoint/assets\n"
     ]
    },
    {
     "name": "stdout",
     "output_type": "stream",
     "text": [
      "80/80 [==============================] - 2s 27ms/step - loss: 1.5743 - accuracy: 0.4235 - precision_3: 0.6203 - recall_3: 0.1562 - val_loss: 1.5018 - val_accuracy: 0.4455 - val_precision_3: 0.7320 - val_recall_3: 0.1199 - lr: 0.0010\n",
      "Epoch 5/120\n",
      "75/80 [===========================>..] - ETA: 0s - loss: 1.5328 - accuracy: 0.4398 - precision_3: 0.6319 - recall_3: 0.1660\n",
      "Epoch 5: val_loss improved from 1.50176 to 1.46662, saving model to chekcpoint\n"
     ]
    },
    {
     "name": "stderr",
     "output_type": "stream",
     "text": [
      "WARNING:absl:Found untraced functions such as _jit_compiled_convolution_op, _jit_compiled_convolution_op, _jit_compiled_convolution_op, _jit_compiled_convolution_op while saving (showing 4 of 4). These functions will not be directly callable after loading.\n"
     ]
    },
    {
     "name": "stdout",
     "output_type": "stream",
     "text": [
      "INFO:tensorflow:Assets written to: chekcpoint/assets\n"
     ]
    },
    {
     "name": "stderr",
     "output_type": "stream",
     "text": [
      "INFO:tensorflow:Assets written to: chekcpoint/assets\n"
     ]
    },
    {
     "name": "stdout",
     "output_type": "stream",
     "text": [
      "80/80 [==============================] - 2s 27ms/step - loss: 1.5345 - accuracy: 0.4398 - precision_3: 0.6304 - recall_3: 0.1662 - val_loss: 1.4666 - val_accuracy: 0.4728 - val_precision_3: 0.6517 - val_recall_3: 0.1835 - lr: 0.0010\n",
      "Epoch 6/120\n",
      "79/80 [============================>.] - ETA: 0s - loss: 1.5020 - accuracy: 0.4497 - precision_3: 0.6427 - recall_3: 0.1800\n",
      "Epoch 6: val_loss improved from 1.46662 to 1.45523, saving model to chekcpoint\n"
     ]
    },
    {
     "name": "stderr",
     "output_type": "stream",
     "text": [
      "WARNING:absl:Found untraced functions such as _jit_compiled_convolution_op, _jit_compiled_convolution_op, _jit_compiled_convolution_op, _jit_compiled_convolution_op while saving (showing 4 of 4). These functions will not be directly callable after loading.\n"
     ]
    },
    {
     "name": "stdout",
     "output_type": "stream",
     "text": [
      "INFO:tensorflow:Assets written to: chekcpoint/assets\n"
     ]
    },
    {
     "name": "stderr",
     "output_type": "stream",
     "text": [
      "INFO:tensorflow:Assets written to: chekcpoint/assets\n"
     ]
    },
    {
     "name": "stdout",
     "output_type": "stream",
     "text": [
      "80/80 [==============================] - 2s 29ms/step - loss: 1.5017 - accuracy: 0.4499 - precision_3: 0.6424 - recall_3: 0.1798 - val_loss: 1.4552 - val_accuracy: 0.4874 - val_precision_3: 0.8187 - val_recall_3: 0.1138 - lr: 0.0010\n",
      "Epoch 7/120\n",
      "78/80 [============================>.] - ETA: 0s - loss: 1.4765 - accuracy: 0.4596 - precision_3: 0.6519 - recall_3: 0.2011\n",
      "Epoch 7: val_loss improved from 1.45523 to 1.45246, saving model to chekcpoint\n"
     ]
    },
    {
     "name": "stderr",
     "output_type": "stream",
     "text": [
      "WARNING:absl:Found untraced functions such as _jit_compiled_convolution_op, _jit_compiled_convolution_op, _jit_compiled_convolution_op, _jit_compiled_convolution_op while saving (showing 4 of 4). These functions will not be directly callable after loading.\n"
     ]
    },
    {
     "name": "stdout",
     "output_type": "stream",
     "text": [
      "INFO:tensorflow:Assets written to: chekcpoint/assets\n"
     ]
    },
    {
     "name": "stderr",
     "output_type": "stream",
     "text": [
      "INFO:tensorflow:Assets written to: chekcpoint/assets\n"
     ]
    },
    {
     "name": "stdout",
     "output_type": "stream",
     "text": [
      "80/80 [==============================] - 3s 32ms/step - loss: 1.4758 - accuracy: 0.4597 - precision_3: 0.6530 - recall_3: 0.2005 - val_loss: 1.4525 - val_accuracy: 0.4850 - val_precision_3: 0.8402 - val_recall_3: 0.1128 - lr: 0.0010\n",
      "Epoch 8/120\n",
      "77/80 [===========================>..] - ETA: 0s - loss: 1.4476 - accuracy: 0.4688 - precision_3: 0.6628 - recall_3: 0.2050\n",
      "Epoch 8: val_loss improved from 1.45246 to 1.41153, saving model to chekcpoint\n"
     ]
    },
    {
     "name": "stderr",
     "output_type": "stream",
     "text": [
      "WARNING:absl:Found untraced functions such as _jit_compiled_convolution_op, _jit_compiled_convolution_op, _jit_compiled_convolution_op, _jit_compiled_convolution_op while saving (showing 4 of 4). These functions will not be directly callable after loading.\n"
     ]
    },
    {
     "name": "stdout",
     "output_type": "stream",
     "text": [
      "INFO:tensorflow:Assets written to: chekcpoint/assets\n"
     ]
    },
    {
     "name": "stderr",
     "output_type": "stream",
     "text": [
      "INFO:tensorflow:Assets written to: chekcpoint/assets\n"
     ]
    },
    {
     "name": "stdout",
     "output_type": "stream",
     "text": [
      "80/80 [==============================] - 2s 25ms/step - loss: 1.4484 - accuracy: 0.4686 - precision_3: 0.6612 - recall_3: 0.2055 - val_loss: 1.4115 - val_accuracy: 0.4858 - val_precision_3: 0.6681 - val_recall_3: 0.2212 - lr: 0.0010\n",
      "Epoch 9/120\n",
      "74/80 [==========================>...] - ETA: 0s - loss: 1.4273 - accuracy: 0.4781 - precision_3: 0.6708 - recall_3: 0.2185\n",
      "Epoch 9: val_loss improved from 1.41153 to 1.40521, saving model to chekcpoint\n"
     ]
    },
    {
     "name": "stderr",
     "output_type": "stream",
     "text": [
      "WARNING:absl:Found untraced functions such as _jit_compiled_convolution_op, _jit_compiled_convolution_op, _jit_compiled_convolution_op, _jit_compiled_convolution_op while saving (showing 4 of 4). These functions will not be directly callable after loading.\n"
     ]
    },
    {
     "name": "stdout",
     "output_type": "stream",
     "text": [
      "INFO:tensorflow:Assets written to: chekcpoint/assets\n"
     ]
    },
    {
     "name": "stderr",
     "output_type": "stream",
     "text": [
      "INFO:tensorflow:Assets written to: chekcpoint/assets\n"
     ]
    },
    {
     "name": "stdout",
     "output_type": "stream",
     "text": [
      "80/80 [==============================] - 2s 29ms/step - loss: 1.4303 - accuracy: 0.4777 - precision_3: 0.6684 - recall_3: 0.2175 - val_loss: 1.4052 - val_accuracy: 0.4888 - val_precision_3: 0.8166 - val_recall_3: 0.1298 - lr: 0.0010\n",
      "Epoch 10/120\n",
      "76/80 [===========================>..] - ETA: 0s - loss: 1.4171 - accuracy: 0.4840 - precision_3: 0.6772 - recall_3: 0.2187\n",
      "Epoch 10: val_loss improved from 1.40521 to 1.37649, saving model to chekcpoint\n"
     ]
    },
    {
     "name": "stderr",
     "output_type": "stream",
     "text": [
      "WARNING:absl:Found untraced functions such as _jit_compiled_convolution_op, _jit_compiled_convolution_op, _jit_compiled_convolution_op, _jit_compiled_convolution_op while saving (showing 4 of 4). These functions will not be directly callable after loading.\n"
     ]
    },
    {
     "name": "stdout",
     "output_type": "stream",
     "text": [
      "INFO:tensorflow:Assets written to: chekcpoint/assets\n"
     ]
    },
    {
     "name": "stderr",
     "output_type": "stream",
     "text": [
      "INFO:tensorflow:Assets written to: chekcpoint/assets\n"
     ]
    },
    {
     "name": "stdout",
     "output_type": "stream",
     "text": [
      "80/80 [==============================] - 2s 30ms/step - loss: 1.4163 - accuracy: 0.4839 - precision_3: 0.6794 - recall_3: 0.2202 - val_loss: 1.3765 - val_accuracy: 0.4994 - val_precision_3: 0.7104 - val_recall_3: 0.2121 - lr: 0.0010\n",
      "Epoch 11/120\n",
      "76/80 [===========================>..] - ETA: 0s - loss: 1.4116 - accuracy: 0.4844 - precision_3: 0.6761 - recall_3: 0.2225\n",
      "Epoch 11: val_loss did not improve from 1.37649\n",
      "80/80 [==============================] - 1s 12ms/step - loss: 1.4110 - accuracy: 0.4852 - precision_3: 0.6751 - recall_3: 0.2221 - val_loss: 1.3899 - val_accuracy: 0.4951 - val_precision_3: 0.6701 - val_recall_3: 0.2460 - lr: 0.0010\n",
      "Epoch 12/120\n",
      "80/80 [==============================] - ETA: 0s - loss: 1.3904 - accuracy: 0.4903 - precision_3: 0.6791 - recall_3: 0.2299\n",
      "Epoch 12: val_loss did not improve from 1.37649\n",
      "80/80 [==============================] - 1s 13ms/step - loss: 1.3904 - accuracy: 0.4903 - precision_3: 0.6791 - recall_3: 0.2299 - val_loss: 1.3777 - val_accuracy: 0.5030 - val_precision_3: 0.8299 - val_recall_3: 0.1422 - lr: 0.0010\n",
      "Epoch 13/120\n",
      "79/80 [============================>.] - ETA: 0s - loss: 1.3730 - accuracy: 0.4995 - precision_3: 0.6956 - recall_3: 0.2408\n",
      "Epoch 13: val_loss improved from 1.37649 to 1.37219, saving model to chekcpoint\n"
     ]
    },
    {
     "name": "stderr",
     "output_type": "stream",
     "text": [
      "WARNING:absl:Found untraced functions such as _jit_compiled_convolution_op, _jit_compiled_convolution_op, _jit_compiled_convolution_op, _jit_compiled_convolution_op while saving (showing 4 of 4). These functions will not be directly callable after loading.\n"
     ]
    },
    {
     "name": "stdout",
     "output_type": "stream",
     "text": [
      "INFO:tensorflow:Assets written to: chekcpoint/assets\n"
     ]
    },
    {
     "name": "stderr",
     "output_type": "stream",
     "text": [
      "INFO:tensorflow:Assets written to: chekcpoint/assets\n"
     ]
    },
    {
     "name": "stdout",
     "output_type": "stream",
     "text": [
      "80/80 [==============================] - 2s 30ms/step - loss: 1.3735 - accuracy: 0.4993 - precision_3: 0.6955 - recall_3: 0.2402 - val_loss: 1.3722 - val_accuracy: 0.5104 - val_precision_3: 0.8408 - val_recall_3: 0.1445 - lr: 0.0010\n",
      "Epoch 14/120\n",
      "77/80 [===========================>..] - ETA: 0s - loss: 1.3666 - accuracy: 0.5013 - precision_3: 0.6980 - recall_3: 0.2479\n",
      "Epoch 14: val_loss improved from 1.37219 to 1.35785, saving model to chekcpoint\n"
     ]
    },
    {
     "name": "stderr",
     "output_type": "stream",
     "text": [
      "WARNING:absl:Found untraced functions such as _jit_compiled_convolution_op, _jit_compiled_convolution_op, _jit_compiled_convolution_op, _jit_compiled_convolution_op while saving (showing 4 of 4). These functions will not be directly callable after loading.\n"
     ]
    },
    {
     "name": "stdout",
     "output_type": "stream",
     "text": [
      "INFO:tensorflow:Assets written to: chekcpoint/assets\n"
     ]
    },
    {
     "name": "stderr",
     "output_type": "stream",
     "text": [
      "INFO:tensorflow:Assets written to: chekcpoint/assets\n"
     ]
    },
    {
     "name": "stdout",
     "output_type": "stream",
     "text": [
      "80/80 [==============================] - 3s 35ms/step - loss: 1.3656 - accuracy: 0.5008 - precision_3: 0.6988 - recall_3: 0.2475 - val_loss: 1.3579 - val_accuracy: 0.5108 - val_precision_3: 0.7590 - val_recall_3: 0.1904 - lr: 0.0010\n",
      "Epoch 15/120\n",
      "78/80 [============================>.] - ETA: 0s - loss: 1.3562 - accuracy: 0.5011 - precision_3: 0.7016 - recall_3: 0.2509\n",
      "Epoch 15: val_loss improved from 1.35785 to 1.35045, saving model to chekcpoint\n"
     ]
    },
    {
     "name": "stderr",
     "output_type": "stream",
     "text": [
      "WARNING:absl:Found untraced functions such as _jit_compiled_convolution_op, _jit_compiled_convolution_op, _jit_compiled_convolution_op, _jit_compiled_convolution_op while saving (showing 4 of 4). These functions will not be directly callable after loading.\n"
     ]
    },
    {
     "name": "stdout",
     "output_type": "stream",
     "text": [
      "INFO:tensorflow:Assets written to: chekcpoint/assets\n"
     ]
    },
    {
     "name": "stderr",
     "output_type": "stream",
     "text": [
      "INFO:tensorflow:Assets written to: chekcpoint/assets\n"
     ]
    },
    {
     "name": "stdout",
     "output_type": "stream",
     "text": [
      "80/80 [==============================] - 2s 29ms/step - loss: 1.3559 - accuracy: 0.5015 - precision_3: 0.7009 - recall_3: 0.2514 - val_loss: 1.3504 - val_accuracy: 0.5116 - val_precision_3: 0.6738 - val_recall_3: 0.2733 - lr: 0.0010\n",
      "Epoch 16/120\n",
      "78/80 [============================>.] - ETA: 0s - loss: 1.3490 - accuracy: 0.5069 - precision_3: 0.7048 - recall_3: 0.2511\n",
      "Epoch 16: val_loss did not improve from 1.35045\n",
      "80/80 [==============================] - 1s 12ms/step - loss: 1.3473 - accuracy: 0.5075 - precision_3: 0.7053 - recall_3: 0.2518 - val_loss: 1.3704 - val_accuracy: 0.5006 - val_precision_3: 0.6288 - val_recall_3: 0.3106 - lr: 0.0010\n",
      "Epoch 17/120\n",
      "76/80 [===========================>..] - ETA: 0s - loss: 1.3380 - accuracy: 0.5098 - precision_3: 0.6956 - recall_3: 0.2686\n",
      "Epoch 17: val_loss did not improve from 1.35045\n",
      "80/80 [==============================] - 1s 12ms/step - loss: 1.3388 - accuracy: 0.5091 - precision_3: 0.6969 - recall_3: 0.2671 - val_loss: 1.3636 - val_accuracy: 0.5006 - val_precision_3: 0.7219 - val_recall_3: 0.2188 - lr: 0.0010\n",
      "Epoch 18/120\n",
      "80/80 [==============================] - ETA: 0s - loss: 1.3354 - accuracy: 0.5115 - precision_3: 0.7047 - recall_3: 0.2604\n",
      "Epoch 18: val_loss improved from 1.35045 to 1.34897, saving model to chekcpoint\n"
     ]
    },
    {
     "name": "stderr",
     "output_type": "stream",
     "text": [
      "WARNING:absl:Found untraced functions such as _jit_compiled_convolution_op, _jit_compiled_convolution_op, _jit_compiled_convolution_op, _jit_compiled_convolution_op while saving (showing 4 of 4). These functions will not be directly callable after loading.\n"
     ]
    },
    {
     "name": "stdout",
     "output_type": "stream",
     "text": [
      "INFO:tensorflow:Assets written to: chekcpoint/assets\n"
     ]
    },
    {
     "name": "stderr",
     "output_type": "stream",
     "text": [
      "INFO:tensorflow:Assets written to: chekcpoint/assets\n"
     ]
    },
    {
     "name": "stdout",
     "output_type": "stream",
     "text": [
      "80/80 [==============================] - 2s 31ms/step - loss: 1.3354 - accuracy: 0.5115 - precision_3: 0.7047 - recall_3: 0.2604 - val_loss: 1.3490 - val_accuracy: 0.5041 - val_precision_3: 0.7060 - val_recall_3: 0.2322 - lr: 0.0010\n",
      "Epoch 19/120\n",
      "76/80 [===========================>..] - ETA: 0s - loss: 1.3242 - accuracy: 0.5154 - precision_3: 0.6959 - recall_3: 0.2712\n",
      "Epoch 19: val_loss improved from 1.34897 to 1.33649, saving model to chekcpoint\n"
     ]
    },
    {
     "name": "stderr",
     "output_type": "stream",
     "text": [
      "WARNING:absl:Found untraced functions such as _jit_compiled_convolution_op, _jit_compiled_convolution_op, _jit_compiled_convolution_op, _jit_compiled_convolution_op while saving (showing 4 of 4). These functions will not be directly callable after loading.\n"
     ]
    },
    {
     "name": "stdout",
     "output_type": "stream",
     "text": [
      "INFO:tensorflow:Assets written to: chekcpoint/assets\n"
     ]
    },
    {
     "name": "stderr",
     "output_type": "stream",
     "text": [
      "INFO:tensorflow:Assets written to: chekcpoint/assets\n"
     ]
    },
    {
     "name": "stdout",
     "output_type": "stream",
     "text": [
      "80/80 [==============================] - 2s 29ms/step - loss: 1.3258 - accuracy: 0.5153 - precision_3: 0.6977 - recall_3: 0.2691 - val_loss: 1.3365 - val_accuracy: 0.5161 - val_precision_3: 0.7512 - val_recall_3: 0.2152 - lr: 0.0010\n",
      "Epoch 20/120\n",
      "75/80 [===========================>..] - ETA: 0s - loss: 1.3219 - accuracy: 0.5182 - precision_3: 0.7024 - recall_3: 0.2737\n",
      "Epoch 20: val_loss did not improve from 1.33649\n",
      "80/80 [==============================] - 1s 13ms/step - loss: 1.3202 - accuracy: 0.5190 - precision_3: 0.7054 - recall_3: 0.2740 - val_loss: 1.3609 - val_accuracy: 0.5028 - val_precision_3: 0.7321 - val_recall_3: 0.2158 - lr: 0.0010\n",
      "Epoch 21/120\n",
      "79/80 [============================>.] - ETA: 0s - loss: 1.3109 - accuracy: 0.5204 - precision_3: 0.7142 - recall_3: 0.2726\n",
      "Epoch 21: val_loss did not improve from 1.33649\n",
      "80/80 [==============================] - 1s 13ms/step - loss: 1.3102 - accuracy: 0.5209 - precision_3: 0.7145 - recall_3: 0.2730 - val_loss: 1.3464 - val_accuracy: 0.5120 - val_precision_3: 0.6635 - val_recall_3: 0.2932 - lr: 0.0010\n",
      "Epoch 22/120\n",
      "76/80 [===========================>..] - ETA: 0s - loss: 1.2977 - accuracy: 0.5250 - precision_3: 0.7098 - recall_3: 0.2854\n",
      "Epoch 22: val_loss improved from 1.33649 to 1.33210, saving model to chekcpoint\n"
     ]
    },
    {
     "name": "stderr",
     "output_type": "stream",
     "text": [
      "WARNING:absl:Found untraced functions such as _jit_compiled_convolution_op, _jit_compiled_convolution_op, _jit_compiled_convolution_op, _jit_compiled_convolution_op while saving (showing 4 of 4). These functions will not be directly callable after loading.\n"
     ]
    },
    {
     "name": "stdout",
     "output_type": "stream",
     "text": [
      "INFO:tensorflow:Assets written to: chekcpoint/assets\n"
     ]
    },
    {
     "name": "stderr",
     "output_type": "stream",
     "text": [
      "INFO:tensorflow:Assets written to: chekcpoint/assets\n"
     ]
    },
    {
     "name": "stdout",
     "output_type": "stream",
     "text": [
      "80/80 [==============================] - 2s 31ms/step - loss: 1.2989 - accuracy: 0.5246 - precision_3: 0.7106 - recall_3: 0.2838 - val_loss: 1.3321 - val_accuracy: 0.5118 - val_precision_3: 0.7267 - val_recall_3: 0.2383 - lr: 0.0010\n",
      "Epoch 23/120\n",
      "80/80 [==============================] - ETA: 0s - loss: 1.2908 - accuracy: 0.5261 - precision_3: 0.7150 - recall_3: 0.2879\n",
      "Epoch 23: val_loss did not improve from 1.33210\n",
      "80/80 [==============================] - 1s 14ms/step - loss: 1.2908 - accuracy: 0.5261 - precision_3: 0.7150 - recall_3: 0.2879 - val_loss: 1.3340 - val_accuracy: 0.5146 - val_precision_3: 0.7069 - val_recall_3: 0.2617 - lr: 0.0010\n",
      "Epoch 24/120\n",
      "76/80 [===========================>..] - ETA: 0s - loss: 1.2823 - accuracy: 0.5297 - precision_3: 0.7186 - recall_3: 0.2908\n",
      "Epoch 24: val_loss did not improve from 1.33210\n",
      "80/80 [==============================] - 1s 14ms/step - loss: 1.2821 - accuracy: 0.5298 - precision_3: 0.7207 - recall_3: 0.2906 - val_loss: 1.3344 - val_accuracy: 0.5136 - val_precision_3: 0.6954 - val_recall_3: 0.2481 - lr: 0.0010\n",
      "Epoch 25/120\n",
      "78/80 [============================>.] - ETA: 0s - loss: 1.2730 - accuracy: 0.5296 - precision_3: 0.7171 - recall_3: 0.3009\n",
      "Epoch 25: val_loss did not improve from 1.33210\n",
      "80/80 [==============================] - 1s 14ms/step - loss: 1.2721 - accuracy: 0.5299 - precision_3: 0.7176 - recall_3: 0.3015 - val_loss: 1.3479 - val_accuracy: 0.5128 - val_precision_3: 0.6791 - val_recall_3: 0.2788 - lr: 0.0010\n",
      "Epoch 26/120\n",
      "77/80 [===========================>..] - ETA: 0s - loss: 1.2712 - accuracy: 0.5326 - precision_3: 0.7199 - recall_3: 0.2992\n",
      "Epoch 26: val_loss did not improve from 1.33210\n",
      "80/80 [==============================] - 1s 14ms/step - loss: 1.2711 - accuracy: 0.5326 - precision_3: 0.7195 - recall_3: 0.2992 - val_loss: 1.3376 - val_accuracy: 0.5116 - val_precision_3: 0.6978 - val_recall_3: 0.2542 - lr: 0.0010\n",
      "Epoch 27/120\n",
      "78/80 [============================>.] - ETA: 0s - loss: 1.2541 - accuracy: 0.5364 - precision_3: 0.7246 - recall_3: 0.3044\n",
      "Epoch 27: val_loss did not improve from 1.33210\n",
      "80/80 [==============================] - 1s 14ms/step - loss: 1.2542 - accuracy: 0.5364 - precision_3: 0.7243 - recall_3: 0.3040 - val_loss: 1.3441 - val_accuracy: 0.5181 - val_precision_3: 0.6835 - val_recall_3: 0.2765 - lr: 0.0010\n",
      "Epoch 28/120\n",
      "76/80 [===========================>..] - ETA: 0s - loss: 1.2601 - accuracy: 0.5352 - precision_3: 0.7264 - recall_3: 0.3077\n",
      "Epoch 28: val_loss did not improve from 1.33210\n",
      "80/80 [==============================] - 1s 13ms/step - loss: 1.2612 - accuracy: 0.5349 - precision_3: 0.7250 - recall_3: 0.3062 - val_loss: 1.3571 - val_accuracy: 0.5140 - val_precision_3: 0.6771 - val_recall_3: 0.2672 - lr: 0.0010\n",
      "Epoch 29/120\n",
      "77/80 [===========================>..] - ETA: 0s - loss: 1.2459 - accuracy: 0.5425 - precision_3: 0.7235 - recall_3: 0.3142\n",
      "Epoch 29: val_loss did not improve from 1.33210\n",
      "80/80 [==============================] - 1s 13ms/step - loss: 1.2473 - accuracy: 0.5418 - precision_3: 0.7238 - recall_3: 0.3135 - val_loss: 1.3437 - val_accuracy: 0.5152 - val_precision_3: 0.6845 - val_recall_3: 0.2666 - lr: 0.0010\n",
      "Epoch 30/120\n",
      "78/80 [============================>.] - ETA: 0s - loss: 1.2385 - accuracy: 0.5423 - precision_3: 0.7267 - recall_3: 0.3190\n",
      "Epoch 30: val_loss did not improve from 1.33210\n",
      "80/80 [==============================] - 1s 12ms/step - loss: 1.2395 - accuracy: 0.5419 - precision_3: 0.7256 - recall_3: 0.3189 - val_loss: 1.3446 - val_accuracy: 0.5167 - val_precision_3: 0.6810 - val_recall_3: 0.2716 - lr: 0.0010\n",
      "Epoch 31/120\n",
      "76/80 [===========================>..] - ETA: 0s - loss: 1.2368 - accuracy: 0.5419 - precision_3: 0.7323 - recall_3: 0.3166\n",
      "Epoch 31: val_loss did not improve from 1.33210\n",
      "80/80 [==============================] - 1s 12ms/step - loss: 1.2362 - accuracy: 0.5420 - precision_3: 0.7307 - recall_3: 0.3180 - val_loss: 1.3540 - val_accuracy: 0.5144 - val_precision_3: 0.6411 - val_recall_3: 0.3297 - lr: 0.0010\n",
      "Epoch 32/120\n",
      "76/80 [===========================>..] - ETA: 0s - loss: 1.2243 - accuracy: 0.5464 - precision_3: 0.7349 - recall_3: 0.3320\n",
      "Epoch 32: val_loss did not improve from 1.33210\n",
      "80/80 [==============================] - 1s 12ms/step - loss: 1.2228 - accuracy: 0.5468 - precision_3: 0.7359 - recall_3: 0.3337 - val_loss: 1.3520 - val_accuracy: 0.5122 - val_precision_3: 0.6500 - val_recall_3: 0.3102 - lr: 0.0010\n",
      "Epoch 33/120\n",
      "77/80 [===========================>..] - ETA: 0s - loss: 1.2185 - accuracy: 0.5498 - precision_3: 0.7343 - recall_3: 0.3356\n",
      "Epoch 33: val_loss did not improve from 1.33210\n",
      "80/80 [==============================] - 1s 11ms/step - loss: 1.2185 - accuracy: 0.5501 - precision_3: 0.7331 - recall_3: 0.3356 - val_loss: 1.3592 - val_accuracy: 0.5163 - val_precision_3: 0.6473 - val_recall_3: 0.3115 - lr: 0.0010\n",
      "Epoch 34/120\n",
      "75/80 [===========================>..] - ETA: 0s - loss: 1.2061 - accuracy: 0.5544 - precision_3: 0.7379 - recall_3: 0.3382\n",
      "Epoch 34: val_loss did not improve from 1.33210\n",
      "80/80 [==============================] - 1s 11ms/step - loss: 1.2069 - accuracy: 0.5537 - precision_3: 0.7399 - recall_3: 0.3367 - val_loss: 1.3591 - val_accuracy: 0.5128 - val_precision_3: 0.7048 - val_recall_3: 0.2596 - lr: 0.0010\n",
      "Epoch 35/120\n",
      "79/80 [============================>.] - ETA: 0s - loss: 1.1995 - accuracy: 0.5557 - precision_3: 0.7346 - recall_3: 0.3540\n",
      "Epoch 35: val_loss did not improve from 1.33210\n",
      "80/80 [==============================] - 1s 11ms/step - loss: 1.1995 - accuracy: 0.5556 - precision_3: 0.7346 - recall_3: 0.3540 - val_loss: 1.3559 - val_accuracy: 0.5177 - val_precision_3: 0.6609 - val_recall_3: 0.3109 - lr: 0.0010\n",
      "Epoch 36/120\n",
      "75/80 [===========================>..] - ETA: 0s - loss: 1.1885 - accuracy: 0.5583 - precision_3: 0.7365 - recall_3: 0.3522\n",
      "Epoch 36: val_loss did not improve from 1.33210\n",
      "80/80 [==============================] - 1s 11ms/step - loss: 1.1912 - accuracy: 0.5576 - precision_3: 0.7381 - recall_3: 0.3505 - val_loss: 1.3532 - val_accuracy: 0.5142 - val_precision_3: 0.6454 - val_recall_3: 0.3200 - lr: 0.0010\n",
      "Epoch 37/120\n",
      "80/80 [==============================] - ETA: 0s - loss: 1.1978 - accuracy: 0.5538 - precision_3: 0.7366 - recall_3: 0.3460\n",
      "Epoch 37: val_loss did not improve from 1.33210\n",
      "80/80 [==============================] - 1s 12ms/step - loss: 1.1978 - accuracy: 0.5538 - precision_3: 0.7366 - recall_3: 0.3460 - val_loss: 1.3652 - val_accuracy: 0.5167 - val_precision_3: 0.6614 - val_recall_3: 0.3035 - lr: 0.0010\n",
      "Epoch 38/120\n",
      "78/80 [============================>.] - ETA: 0s - loss: 1.1803 - accuracy: 0.5609 - precision_3: 0.7394 - recall_3: 0.3608\n",
      "Epoch 38: val_loss did not improve from 1.33210\n",
      "80/80 [==============================] - 1s 11ms/step - loss: 1.1808 - accuracy: 0.5609 - precision_3: 0.7399 - recall_3: 0.3592 - val_loss: 1.3679 - val_accuracy: 0.5142 - val_precision_3: 0.6863 - val_recall_3: 0.2550 - lr: 0.0010\n",
      "Epoch 39/120\n",
      "78/80 [============================>.] - ETA: 0s - loss: 1.1793 - accuracy: 0.5607 - precision_3: 0.7351 - recall_3: 0.3562\n",
      "Epoch 39: val_loss did not improve from 1.33210\n",
      "80/80 [==============================] - 1s 11ms/step - loss: 1.1803 - accuracy: 0.5608 - precision_3: 0.7349 - recall_3: 0.3559 - val_loss: 1.3692 - val_accuracy: 0.5150 - val_precision_3: 0.6517 - val_recall_3: 0.2991 - lr: 0.0010\n",
      "Epoch 40/120\n",
      "80/80 [==============================] - ETA: 0s - loss: 1.1642 - accuracy: 0.5638 - precision_3: 0.7458 - recall_3: 0.3664\n",
      "Epoch 40: val_loss did not improve from 1.33210\n",
      "80/80 [==============================] - 1s 12ms/step - loss: 1.1642 - accuracy: 0.5638 - precision_3: 0.7458 - recall_3: 0.3664 - val_loss: 1.3912 - val_accuracy: 0.5128 - val_precision_3: 0.6426 - val_recall_3: 0.3194 - lr: 0.0010\n",
      "Epoch 41/120\n",
      "80/80 [==============================] - ETA: 0s - loss: 1.1561 - accuracy: 0.5650 - precision_3: 0.7430 - recall_3: 0.3676\n",
      "Epoch 41: val_loss did not improve from 1.33210\n",
      "80/80 [==============================] - 1s 9ms/step - loss: 1.1561 - accuracy: 0.5650 - precision_3: 0.7430 - recall_3: 0.3676 - val_loss: 1.3838 - val_accuracy: 0.5124 - val_precision_3: 0.6645 - val_recall_3: 0.2812 - lr: 0.0010\n",
      "Epoch 42/120\n",
      "79/80 [============================>.] - ETA: 0s - loss: 1.1553 - accuracy: 0.5681 - precision_3: 0.7418 - recall_3: 0.3755\n",
      "Epoch 42: val_loss did not improve from 1.33210\n",
      "80/80 [==============================] - 1s 12ms/step - loss: 1.1558 - accuracy: 0.5679 - precision_3: 0.7416 - recall_3: 0.3751 - val_loss: 1.4192 - val_accuracy: 0.5091 - val_precision_3: 0.6572 - val_recall_3: 0.2861 - lr: 0.0010\n",
      "Epoch 43/120\n",
      "76/80 [===========================>..] - ETA: 0s - loss: 1.1449 - accuracy: 0.5703 - precision_3: 0.7503 - recall_3: 0.3723\n",
      "Epoch 43: val_loss did not improve from 1.33210\n",
      "80/80 [==============================] - 1s 14ms/step - loss: 1.1450 - accuracy: 0.5709 - precision_3: 0.7498 - recall_3: 0.3741 - val_loss: 1.4043 - val_accuracy: 0.5181 - val_precision_3: 0.6239 - val_recall_3: 0.3616 - lr: 0.0010\n",
      "Epoch 44/120\n",
      "77/80 [===========================>..] - ETA: 0s - loss: 1.1420 - accuracy: 0.5721 - precision_3: 0.7509 - recall_3: 0.3773\n",
      "Epoch 44: val_loss did not improve from 1.33210\n",
      "80/80 [==============================] - 1s 13ms/step - loss: 1.1439 - accuracy: 0.5720 - precision_3: 0.7497 - recall_3: 0.3770 - val_loss: 1.3926 - val_accuracy: 0.5201 - val_precision_3: 0.6394 - val_recall_3: 0.3352 - lr: 0.0010\n",
      "Epoch 45/120\n",
      "78/80 [============================>.] - ETA: 0s - loss: 1.1340 - accuracy: 0.5730 - precision_3: 0.7528 - recall_3: 0.3807\n",
      "Epoch 45: val_loss did not improve from 1.33210\n",
      "80/80 [==============================] - 1s 13ms/step - loss: 1.1340 - accuracy: 0.5732 - precision_3: 0.7526 - recall_3: 0.3806 - val_loss: 1.3997 - val_accuracy: 0.5244 - val_precision_3: 0.6488 - val_recall_3: 0.3212 - lr: 0.0010\n",
      "Epoch 46/120\n",
      "79/80 [============================>.] - ETA: 0s - loss: 1.1126 - accuracy: 0.5816 - precision_3: 0.7472 - recall_3: 0.3997\n",
      "Epoch 46: val_loss did not improve from 1.33210\n",
      "80/80 [==============================] - 1s 13ms/step - loss: 1.1134 - accuracy: 0.5812 - precision_3: 0.7467 - recall_3: 0.3993 - val_loss: 1.3954 - val_accuracy: 0.5114 - val_precision_3: 0.6614 - val_recall_3: 0.2877 - lr: 0.0010\n",
      "Epoch 47/120\n",
      "78/80 [============================>.] - ETA: 0s - loss: 1.1195 - accuracy: 0.5785 - precision_3: 0.7559 - recall_3: 0.3917\n",
      "Epoch 47: val_loss did not improve from 1.33210\n",
      "80/80 [==============================] - 1s 13ms/step - loss: 1.1198 - accuracy: 0.5785 - precision_3: 0.7556 - recall_3: 0.3914 - val_loss: 1.4068 - val_accuracy: 0.5209 - val_precision_3: 0.6481 - val_recall_3: 0.3188 - lr: 0.0010\n",
      "Epoch 48/120\n",
      "75/80 [===========================>..] - ETA: 0s - loss: 1.0988 - accuracy: 0.5843 - precision_3: 0.7571 - recall_3: 0.4056\n",
      "Epoch 48: val_loss did not improve from 1.33210\n",
      "80/80 [==============================] - 1s 14ms/step - loss: 1.1023 - accuracy: 0.5819 - precision_3: 0.7544 - recall_3: 0.4026 - val_loss: 1.4066 - val_accuracy: 0.5161 - val_precision_3: 0.6458 - val_recall_3: 0.3070 - lr: 0.0010\n",
      "Epoch 49/120\n",
      "80/80 [==============================] - ETA: 0s - loss: 1.0875 - accuracy: 0.5883 - precision_3: 0.7590 - recall_3: 0.4038\n",
      "Epoch 49: val_loss did not improve from 1.33210\n",
      "80/80 [==============================] - 1s 13ms/step - loss: 1.0875 - accuracy: 0.5883 - precision_3: 0.7590 - recall_3: 0.4038 - val_loss: 1.4589 - val_accuracy: 0.5152 - val_precision_3: 0.6211 - val_recall_3: 0.3651 - lr: 0.0010\n",
      "Epoch 50/120\n",
      "80/80 [==============================] - ETA: 0s - loss: 1.0862 - accuracy: 0.5898 - precision_3: 0.7589 - recall_3: 0.4114\n",
      "Epoch 50: val_loss did not improve from 1.33210\n",
      "80/80 [==============================] - 1s 12ms/step - loss: 1.0862 - accuracy: 0.5898 - precision_3: 0.7589 - recall_3: 0.4114 - val_loss: 1.4419 - val_accuracy: 0.5146 - val_precision_3: 0.6161 - val_recall_3: 0.3537 - lr: 0.0010\n",
      "Epoch 51/120\n",
      "80/80 [==============================] - ETA: 0s - loss: 1.0655 - accuracy: 0.5965 - precision_3: 0.7582 - recall_3: 0.4190\n",
      "Epoch 51: val_loss did not improve from 1.33210\n",
      "80/80 [==============================] - 1s 12ms/step - loss: 1.0655 - accuracy: 0.5965 - precision_3: 0.7582 - recall_3: 0.4190 - val_loss: 1.4446 - val_accuracy: 0.5160 - val_precision_3: 0.6335 - val_recall_3: 0.3444 - lr: 0.0010\n",
      "Epoch 52/120\n",
      "76/80 [===========================>..] - ETA: 0s - loss: 1.0636 - accuracy: 0.5938 - precision_3: 0.7591 - recall_3: 0.4207\n",
      "Epoch 52: val_loss did not improve from 1.33210\n",
      "80/80 [==============================] - 1s 12ms/step - loss: 1.0651 - accuracy: 0.5929 - precision_3: 0.7578 - recall_3: 0.4197 - val_loss: 1.4438 - val_accuracy: 0.5205 - val_precision_3: 0.6271 - val_recall_3: 0.3411 - lr: 0.0010\n",
      "Epoch 53/120\n",
      "77/80 [===========================>..] - ETA: 0s - loss: 1.0508 - accuracy: 0.6005 - precision_3: 0.7599 - recall_3: 0.4304\n",
      "Epoch 53: val_loss did not improve from 1.33210\n",
      "80/80 [==============================] - 1s 11ms/step - loss: 1.0521 - accuracy: 0.5997 - precision_3: 0.7609 - recall_3: 0.4286 - val_loss: 1.4896 - val_accuracy: 0.5095 - val_precision_3: 0.6203 - val_recall_3: 0.3269 - lr: 0.0010\n",
      "Epoch 54/120\n",
      "76/80 [===========================>..] - ETA: 0s - loss: 1.0438 - accuracy: 0.6022 - precision_3: 0.7634 - recall_3: 0.4345\n",
      "Epoch 54: val_loss did not improve from 1.33210\n",
      "80/80 [==============================] - 1s 11ms/step - loss: 1.0443 - accuracy: 0.6015 - precision_3: 0.7633 - recall_3: 0.4325 - val_loss: 1.5009 - val_accuracy: 0.5096 - val_precision_3: 0.6119 - val_recall_3: 0.3468 - lr: 0.0010\n",
      "Epoch 55/120\n",
      "75/80 [===========================>..] - ETA: 0s - loss: 1.0420 - accuracy: 0.6014 - precision_3: 0.7640 - recall_3: 0.4358\n",
      "Epoch 55: val_loss did not improve from 1.33210\n",
      "80/80 [==============================] - 1s 12ms/step - loss: 1.0428 - accuracy: 0.6018 - precision_3: 0.7663 - recall_3: 0.4352 - val_loss: 1.4854 - val_accuracy: 0.5126 - val_precision_3: 0.6230 - val_recall_3: 0.3531 - lr: 0.0010\n",
      "Epoch 56/120\n",
      "76/80 [===========================>..] - ETA: 0s - loss: 1.0381 - accuracy: 0.6026 - precision_3: 0.7641 - recall_3: 0.4386\n",
      "Epoch 56: val_loss did not improve from 1.33210\n",
      "80/80 [==============================] - 1s 11ms/step - loss: 1.0401 - accuracy: 0.6028 - precision_3: 0.7651 - recall_3: 0.4372 - val_loss: 1.5167 - val_accuracy: 0.5004 - val_precision_3: 0.6132 - val_recall_3: 0.3253 - lr: 0.0010\n",
      "Epoch 57/120\n",
      "78/80 [============================>.] - ETA: 0s - loss: 1.0109 - accuracy: 0.6107 - precision_3: 0.7715 - recall_3: 0.4521\n",
      "Epoch 57: val_loss did not improve from 1.33210\n",
      "80/80 [==============================] - 1s 12ms/step - loss: 1.0109 - accuracy: 0.6109 - precision_3: 0.7718 - recall_3: 0.4525 - val_loss: 1.5477 - val_accuracy: 0.5030 - val_precision_3: 0.6030 - val_recall_3: 0.3622 - lr: 0.0010\n",
      "Epoch 58/120\n",
      "75/80 [===========================>..] - ETA: 0s - loss: 1.0023 - accuracy: 0.6127 - precision_3: 0.7670 - recall_3: 0.4620\n",
      "Epoch 58: val_loss did not improve from 1.33210\n",
      "80/80 [==============================] - 1s 11ms/step - loss: 1.0040 - accuracy: 0.6128 - precision_3: 0.7669 - recall_3: 0.4602 - val_loss: 1.4992 - val_accuracy: 0.5069 - val_precision_3: 0.6238 - val_recall_3: 0.3452 - lr: 0.0010\n",
      "Epoch 59/120\n",
      "76/80 [===========================>..] - ETA: 0s - loss: 1.0021 - accuracy: 0.6174 - precision_3: 0.7714 - recall_3: 0.4575\n",
      "Epoch 59: val_loss did not improve from 1.33210\n",
      "80/80 [==============================] - 1s 11ms/step - loss: 1.0054 - accuracy: 0.6162 - precision_3: 0.7711 - recall_3: 0.4567 - val_loss: 1.5183 - val_accuracy: 0.5026 - val_precision_3: 0.6137 - val_recall_3: 0.3407 - lr: 0.0010\n",
      "Epoch 60/120\n",
      "79/80 [============================>.] - ETA: 0s - loss: 0.9881 - accuracy: 0.6167 - precision_3: 0.7732 - recall_3: 0.4625\n",
      "Epoch 60: val_loss did not improve from 1.33210\n",
      "80/80 [==============================] - 1s 11ms/step - loss: 0.9881 - accuracy: 0.6168 - precision_3: 0.7736 - recall_3: 0.4624 - val_loss: 1.5439 - val_accuracy: 0.5018 - val_precision_3: 0.6138 - val_recall_3: 0.3383 - lr: 0.0010\n",
      "Epoch 61/120\n",
      "77/80 [===========================>..] - ETA: 0s - loss: 0.9849 - accuracy: 0.6217 - precision_3: 0.7767 - recall_3: 0.4674\n",
      "Epoch 61: val_loss did not improve from 1.33210\n",
      "80/80 [==============================] - 1s 11ms/step - loss: 0.9836 - accuracy: 0.6221 - precision_3: 0.7772 - recall_3: 0.4676 - val_loss: 1.5597 - val_accuracy: 0.5028 - val_precision_3: 0.5995 - val_recall_3: 0.3511 - lr: 0.0010\n",
      "Epoch 62/120\n",
      "80/80 [==============================] - ETA: 0s - loss: 0.9795 - accuracy: 0.6253 - precision_3: 0.7809 - recall_3: 0.4734\n",
      "Epoch 62: val_loss did not improve from 1.33210\n",
      "80/80 [==============================] - 1s 12ms/step - loss: 0.9795 - accuracy: 0.6253 - precision_3: 0.7809 - recall_3: 0.4734 - val_loss: 1.5471 - val_accuracy: 0.5069 - val_precision_3: 0.6114 - val_recall_3: 0.3616 - lr: 0.0010\n",
      "Epoch 63/120\n",
      "78/80 [============================>.] - ETA: 0s - loss: 0.9711 - accuracy: 0.6252 - precision_3: 0.7769 - recall_3: 0.4788\n",
      "Epoch 63: val_loss did not improve from 1.33210\n",
      "80/80 [==============================] - 1s 11ms/step - loss: 0.9690 - accuracy: 0.6257 - precision_3: 0.7777 - recall_3: 0.4796 - val_loss: 1.5689 - val_accuracy: 0.5035 - val_precision_3: 0.5976 - val_recall_3: 0.3726 - lr: 0.0010\n",
      "Epoch 64/120\n",
      "78/80 [============================>.] - ETA: 0s - loss: 0.9526 - accuracy: 0.6357 - precision_3: 0.7810 - recall_3: 0.4871\n",
      "Epoch 64: val_loss did not improve from 1.33210\n",
      "80/80 [==============================] - 1s 12ms/step - loss: 0.9518 - accuracy: 0.6361 - precision_3: 0.7812 - recall_3: 0.4880 - val_loss: 1.5855 - val_accuracy: 0.5024 - val_precision_3: 0.5931 - val_recall_3: 0.3639 - lr: 0.0010\n",
      "Epoch 65/120\n",
      "78/80 [============================>.] - ETA: 0s - loss: 0.9480 - accuracy: 0.6370 - precision_3: 0.7816 - recall_3: 0.4857\n",
      "Epoch 65: val_loss did not improve from 1.33210\n",
      "80/80 [==============================] - 1s 11ms/step - loss: 0.9487 - accuracy: 0.6368 - precision_3: 0.7804 - recall_3: 0.4849 - val_loss: 1.6307 - val_accuracy: 0.5024 - val_precision_3: 0.5851 - val_recall_3: 0.3708 - lr: 0.0010\n",
      "Epoch 66/120\n",
      "76/80 [===========================>..] - ETA: 0s - loss: 0.9383 - accuracy: 0.6407 - precision_3: 0.7851 - recall_3: 0.4965\n",
      "Epoch 66: val_loss did not improve from 1.33210\n",
      "80/80 [==============================] - 1s 11ms/step - loss: 0.9397 - accuracy: 0.6398 - precision_3: 0.7832 - recall_3: 0.4959 - val_loss: 1.6048 - val_accuracy: 0.5081 - val_precision_3: 0.6019 - val_recall_3: 0.3785 - lr: 0.0010\n",
      "Epoch 67/120\n",
      "76/80 [===========================>..] - ETA: 0s - loss: 0.9270 - accuracy: 0.6446 - precision_3: 0.7864 - recall_3: 0.5017\n",
      "Epoch 67: val_loss did not improve from 1.33210\n",
      "80/80 [==============================] - 1s 11ms/step - loss: 0.9254 - accuracy: 0.6451 - precision_3: 0.7870 - recall_3: 0.5020 - val_loss: 1.6374 - val_accuracy: 0.5012 - val_precision_3: 0.5902 - val_recall_3: 0.3738 - lr: 0.0010\n",
      "Epoch 68/120\n",
      "78/80 [============================>.] - ETA: 0s - loss: 0.9205 - accuracy: 0.6446 - precision_3: 0.7836 - recall_3: 0.5061\n",
      "Epoch 68: val_loss did not improve from 1.33210\n",
      "80/80 [==============================] - 1s 11ms/step - loss: 0.9213 - accuracy: 0.6437 - precision_3: 0.7834 - recall_3: 0.5053 - val_loss: 1.6087 - val_accuracy: 0.4967 - val_precision_3: 0.5950 - val_recall_3: 0.3521 - lr: 0.0010\n",
      "Epoch 69/120\n",
      "80/80 [==============================] - ETA: 0s - loss: 0.9075 - accuracy: 0.6491 - precision_3: 0.7883 - recall_3: 0.5134\n",
      "Epoch 69: val_loss did not improve from 1.33210\n",
      "80/80 [==============================] - 1s 12ms/step - loss: 0.9075 - accuracy: 0.6491 - precision_3: 0.7883 - recall_3: 0.5134 - val_loss: 1.6106 - val_accuracy: 0.5002 - val_precision_3: 0.6078 - val_recall_3: 0.3641 - lr: 0.0010\n",
      "Epoch 70/120\n",
      "79/80 [============================>.] - ETA: 0s - loss: 0.8942 - accuracy: 0.6563 - precision_3: 0.7900 - recall_3: 0.5210\n",
      "Epoch 70: val_loss did not improve from 1.33210\n",
      "80/80 [==============================] - 1s 12ms/step - loss: 0.8936 - accuracy: 0.6565 - precision_3: 0.7901 - recall_3: 0.5213 - val_loss: 1.6502 - val_accuracy: 0.5028 - val_precision_3: 0.5920 - val_recall_3: 0.3651 - lr: 0.0010\n",
      "Epoch 71/120\n",
      "79/80 [============================>.] - ETA: 0s - loss: 0.9002 - accuracy: 0.6528 - precision_3: 0.7874 - recall_3: 0.5191\n",
      "Epoch 71: val_loss did not improve from 1.33210\n",
      "80/80 [==============================] - 1s 12ms/step - loss: 0.9003 - accuracy: 0.6528 - precision_3: 0.7875 - recall_3: 0.5193 - val_loss: 1.6863 - val_accuracy: 0.5010 - val_precision_3: 0.5788 - val_recall_3: 0.3789 - lr: 0.0010\n",
      "Epoch 72/120\n",
      "76/80 [===========================>..] - ETA: 0s - loss: 0.8688 - accuracy: 0.6642 - precision_3: 0.7910 - recall_3: 0.5358\n",
      "Epoch 72: val_loss did not improve from 1.33210\n",
      "80/80 [==============================] - 1s 12ms/step - loss: 0.8671 - accuracy: 0.6649 - precision_3: 0.7908 - recall_3: 0.5362 - val_loss: 1.7426 - val_accuracy: 0.4965 - val_precision_3: 0.5783 - val_recall_3: 0.3791 - lr: 0.0010\n",
      "Epoch 73/120\n",
      "78/80 [============================>.] - ETA: 0s - loss: 0.8642 - accuracy: 0.6656 - precision_3: 0.7964 - recall_3: 0.5391\n",
      "Epoch 73: val_loss did not improve from 1.33210\n",
      "80/80 [==============================] - 1s 12ms/step - loss: 0.8651 - accuracy: 0.6652 - precision_3: 0.7965 - recall_3: 0.5390 - val_loss: 1.7215 - val_accuracy: 0.4886 - val_precision_3: 0.5826 - val_recall_3: 0.3681 - lr: 0.0010\n",
      "Epoch 74/120\n",
      "79/80 [============================>.] - ETA: 0s - loss: 0.8667 - accuracy: 0.6662 - precision_3: 0.7932 - recall_3: 0.5398\n",
      "Epoch 74: val_loss did not improve from 1.33210\n",
      "80/80 [==============================] - 1s 12ms/step - loss: 0.8666 - accuracy: 0.6665 - precision_3: 0.7933 - recall_3: 0.5401 - val_loss: 1.6922 - val_accuracy: 0.4870 - val_precision_3: 0.5983 - val_recall_3: 0.3608 - lr: 0.0010\n",
      "Epoch 75/120\n",
      "78/80 [============================>.] - ETA: 0s - loss: 0.8772 - accuracy: 0.6624 - precision_3: 0.7965 - recall_3: 0.5341\n",
      "Epoch 75: val_loss did not improve from 1.33210\n",
      "80/80 [==============================] - 1s 12ms/step - loss: 0.8782 - accuracy: 0.6620 - precision_3: 0.7962 - recall_3: 0.5342 - val_loss: 1.7172 - val_accuracy: 0.4990 - val_precision_3: 0.5858 - val_recall_3: 0.3704 - lr: 0.0010\n",
      "Epoch 76/120\n",
      "77/80 [===========================>..] - ETA: 0s - loss: 0.7875 - accuracy: 0.6923 - precision_3: 0.8132 - recall_3: 0.5749\n",
      "Epoch 76: val_loss did not improve from 1.33210\n",
      "80/80 [==============================] - 1s 11ms/step - loss: 0.7867 - accuracy: 0.6930 - precision_3: 0.8133 - recall_3: 0.5756 - val_loss: 1.8339 - val_accuracy: 0.4894 - val_precision_3: 0.5644 - val_recall_3: 0.3927 - lr: 4.0000e-04\n",
      "Epoch 77/120\n",
      "78/80 [============================>.] - ETA: 0s - loss: 0.7495 - accuracy: 0.7090 - precision_3: 0.8219 - recall_3: 0.6053\n",
      "Epoch 77: val_loss did not improve from 1.33210\n",
      "80/80 [==============================] - 1s 12ms/step - loss: 0.7485 - accuracy: 0.7095 - precision_3: 0.8223 - recall_3: 0.6055 - val_loss: 1.8597 - val_accuracy: 0.4856 - val_precision_3: 0.5661 - val_recall_3: 0.3931 - lr: 4.0000e-04\n",
      "Epoch 78/120\n",
      "80/80 [==============================] - ETA: 0s - loss: 0.7406 - accuracy: 0.7085 - precision_3: 0.8188 - recall_3: 0.6040\n",
      "Epoch 78: val_loss did not improve from 1.33210\n",
      "80/80 [==============================] - 1s 11ms/step - loss: 0.7406 - accuracy: 0.7085 - precision_3: 0.8188 - recall_3: 0.6040 - val_loss: 1.8773 - val_accuracy: 0.4915 - val_precision_3: 0.5635 - val_recall_3: 0.3976 - lr: 4.0000e-04\n",
      "Epoch 79/120\n",
      "80/80 [==============================] - ETA: 0s - loss: 0.7306 - accuracy: 0.7154 - precision_3: 0.8251 - recall_3: 0.6137\n",
      "Epoch 79: val_loss did not improve from 1.33210\n",
      "80/80 [==============================] - 1s 12ms/step - loss: 0.7306 - accuracy: 0.7154 - precision_3: 0.8251 - recall_3: 0.6137 - val_loss: 1.8799 - val_accuracy: 0.4811 - val_precision_3: 0.5661 - val_recall_3: 0.3913 - lr: 4.0000e-04\n",
      "Epoch 80/120\n",
      "79/80 [============================>.] - ETA: 0s - loss: 0.7232 - accuracy: 0.7165 - precision_3: 0.8227 - recall_3: 0.6186\n",
      "Epoch 80: val_loss did not improve from 1.33210\n",
      "80/80 [==============================] - 1s 12ms/step - loss: 0.7240 - accuracy: 0.7162 - precision_3: 0.8222 - recall_3: 0.6183 - val_loss: 1.9157 - val_accuracy: 0.4821 - val_precision_3: 0.5583 - val_recall_3: 0.4000 - lr: 4.0000e-04\n",
      "Epoch 81/120\n",
      "77/80 [===========================>..] - ETA: 0s - loss: 0.7115 - accuracy: 0.7231 - precision_3: 0.8305 - recall_3: 0.6217\n",
      "Epoch 81: val_loss did not improve from 1.33210\n",
      "80/80 [==============================] - 1s 12ms/step - loss: 0.7126 - accuracy: 0.7229 - precision_3: 0.8306 - recall_3: 0.6220 - val_loss: 1.9851 - val_accuracy: 0.4872 - val_precision_3: 0.5572 - val_recall_3: 0.4088 - lr: 4.0000e-04\n",
      "Epoch 82/120\n",
      "77/80 [===========================>..] - ETA: 0s - loss: 0.6996 - accuracy: 0.7307 - precision_3: 0.8320 - recall_3: 0.6296\n",
      "Epoch 82: val_loss did not improve from 1.33210\n",
      "80/80 [==============================] - 1s 12ms/step - loss: 0.6997 - accuracy: 0.7304 - precision_3: 0.8316 - recall_3: 0.6290 - val_loss: 2.0041 - val_accuracy: 0.4876 - val_precision_3: 0.5545 - val_recall_3: 0.4057 - lr: 4.0000e-04\n",
      "Epoch 83/120\n",
      "78/80 [============================>.] - ETA: 0s - loss: 0.7006 - accuracy: 0.7266 - precision_3: 0.8269 - recall_3: 0.6338\n",
      "Epoch 83: val_loss did not improve from 1.33210\n",
      "80/80 [==============================] - 1s 11ms/step - loss: 0.7003 - accuracy: 0.7270 - precision_3: 0.8270 - recall_3: 0.6340 - val_loss: 1.9626 - val_accuracy: 0.4953 - val_precision_3: 0.5593 - val_recall_3: 0.4151 - lr: 4.0000e-04\n",
      "Epoch 84/120\n",
      "79/80 [============================>.] - ETA: 0s - loss: 0.6962 - accuracy: 0.7296 - precision_3: 0.8302 - recall_3: 0.6338\n",
      "Epoch 84: val_loss did not improve from 1.33210\n",
      "80/80 [==============================] - 1s 11ms/step - loss: 0.6959 - accuracy: 0.7296 - precision_3: 0.8301 - recall_3: 0.6340 - val_loss: 2.0179 - val_accuracy: 0.4902 - val_precision_3: 0.5544 - val_recall_3: 0.4177 - lr: 4.0000e-04\n",
      "Epoch 85/120\n",
      "77/80 [===========================>..] - ETA: 0s - loss: 0.6869 - accuracy: 0.7350 - precision_3: 0.8299 - recall_3: 0.6376\n",
      "Epoch 85: val_loss did not improve from 1.33210\n",
      "80/80 [==============================] - 1s 11ms/step - loss: 0.6869 - accuracy: 0.7353 - precision_3: 0.8294 - recall_3: 0.6376 - val_loss: 2.0238 - val_accuracy: 0.4795 - val_precision_3: 0.5497 - val_recall_3: 0.4031 - lr: 4.0000e-04\n",
      "Epoch 86/120\n",
      "78/80 [============================>.] - ETA: 0s - loss: 0.6714 - accuracy: 0.7370 - precision_3: 0.8338 - recall_3: 0.6468\n",
      "Epoch 86: val_loss did not improve from 1.33210\n",
      "80/80 [==============================] - 1s 12ms/step - loss: 0.6705 - accuracy: 0.7373 - precision_3: 0.8339 - recall_3: 0.6471 - val_loss: 2.0738 - val_accuracy: 0.4833 - val_precision_3: 0.5504 - val_recall_3: 0.4094 - lr: 4.0000e-04\n",
      "Epoch 87/120\n",
      "75/80 [===========================>..] - ETA: 0s - loss: 0.6726 - accuracy: 0.7347 - precision_3: 0.8331 - recall_3: 0.6444\n",
      "Epoch 87: val_loss did not improve from 1.33210\n",
      "80/80 [==============================] - 1s 11ms/step - loss: 0.6755 - accuracy: 0.7341 - precision_3: 0.8324 - recall_3: 0.6430 - val_loss: 2.0474 - val_accuracy: 0.4839 - val_precision_3: 0.5501 - val_recall_3: 0.4009 - lr: 4.0000e-04\n",
      "Epoch 88/120\n",
      "78/80 [============================>.] - ETA: 0s - loss: 0.6769 - accuracy: 0.7380 - precision_3: 0.8333 - recall_3: 0.6448\n",
      "Epoch 88: val_loss did not improve from 1.33210\n",
      "80/80 [==============================] - 1s 11ms/step - loss: 0.6769 - accuracy: 0.7378 - precision_3: 0.8334 - recall_3: 0.6447 - val_loss: 2.0810 - val_accuracy: 0.4776 - val_precision_3: 0.5489 - val_recall_3: 0.4086 - lr: 4.0000e-04\n",
      "Epoch 89/120\n",
      "78/80 [============================>.] - ETA: 0s - loss: 0.6249 - accuracy: 0.7558 - precision_3: 0.8452 - recall_3: 0.6712\n",
      "Epoch 89: val_loss did not improve from 1.33210\n",
      "80/80 [==============================] - 1s 11ms/step - loss: 0.6244 - accuracy: 0.7564 - precision_3: 0.8451 - recall_3: 0.6719 - val_loss: 2.1114 - val_accuracy: 0.4811 - val_precision_3: 0.5460 - val_recall_3: 0.4116 - lr: 1.6000e-04\n",
      "Epoch 90/120\n",
      "75/80 [===========================>..] - ETA: 0s - loss: 0.6121 - accuracy: 0.7638 - precision_3: 0.8512 - recall_3: 0.6808\n",
      "Epoch 90: val_loss did not improve from 1.33210\n",
      "80/80 [==============================] - 1s 12ms/step - loss: 0.6110 - accuracy: 0.7639 - precision_3: 0.8510 - recall_3: 0.6809 - val_loss: 2.1691 - val_accuracy: 0.4819 - val_precision_3: 0.5402 - val_recall_3: 0.4193 - lr: 1.6000e-04\n",
      "Epoch 91/120\n",
      "78/80 [============================>.] - ETA: 0s - loss: 0.6143 - accuracy: 0.7599 - precision_3: 0.8422 - recall_3: 0.6781\n",
      "Epoch 91: val_loss did not improve from 1.33210\n",
      "80/80 [==============================] - 1s 12ms/step - loss: 0.6154 - accuracy: 0.7592 - precision_3: 0.8418 - recall_3: 0.6777 - val_loss: 2.1396 - val_accuracy: 0.4856 - val_precision_3: 0.5454 - val_recall_3: 0.4173 - lr: 1.6000e-04\n",
      "Epoch 92/120\n",
      "78/80 [============================>.] - ETA: 0s - loss: 0.6077 - accuracy: 0.7603 - precision_3: 0.8501 - recall_3: 0.6795\n",
      "Epoch 92: val_loss did not improve from 1.33210\n",
      "80/80 [==============================] - 1s 12ms/step - loss: 0.6072 - accuracy: 0.7609 - precision_3: 0.8502 - recall_3: 0.6799 - val_loss: 2.1823 - val_accuracy: 0.4888 - val_precision_3: 0.5477 - val_recall_3: 0.4230 - lr: 1.6000e-04\n",
      "Epoch 93/120\n",
      "76/80 [===========================>..] - ETA: 0s - loss: 0.6041 - accuracy: 0.7617 - precision_3: 0.8494 - recall_3: 0.6819\n",
      "Epoch 93: val_loss did not improve from 1.33210\n",
      "80/80 [==============================] - 1s 11ms/step - loss: 0.6027 - accuracy: 0.7626 - precision_3: 0.8501 - recall_3: 0.6829 - val_loss: 2.1951 - val_accuracy: 0.4781 - val_precision_3: 0.5374 - val_recall_3: 0.4104 - lr: 1.6000e-04\n",
      "Epoch 94/120\n",
      "75/80 [===========================>..] - ETA: 0s - loss: 0.5974 - accuracy: 0.7688 - precision_3: 0.8523 - recall_3: 0.6896\n",
      "Epoch 94: val_loss did not improve from 1.33210\n",
      "80/80 [==============================] - 1s 11ms/step - loss: 0.6002 - accuracy: 0.7672 - precision_3: 0.8520 - recall_3: 0.6879 - val_loss: 2.2100 - val_accuracy: 0.4758 - val_precision_3: 0.5354 - val_recall_3: 0.4151 - lr: 1.6000e-04\n",
      "Epoch 95/120\n",
      "79/80 [============================>.] - ETA: 0s - loss: 0.5956 - accuracy: 0.7656 - precision_3: 0.8494 - recall_3: 0.6876\n",
      "Epoch 95: val_loss did not improve from 1.33210\n",
      "80/80 [==============================] - 1s 11ms/step - loss: 0.5961 - accuracy: 0.7652 - precision_3: 0.8489 - recall_3: 0.6871 - val_loss: 2.1739 - val_accuracy: 0.4748 - val_precision_3: 0.5358 - val_recall_3: 0.4065 - lr: 1.6000e-04\n",
      "Epoch 96/120\n",
      "79/80 [============================>.] - ETA: 0s - loss: 0.5911 - accuracy: 0.7706 - precision_3: 0.8532 - recall_3: 0.6929\n",
      "Epoch 96: val_loss did not improve from 1.33210\n",
      "80/80 [==============================] - 1s 12ms/step - loss: 0.5914 - accuracy: 0.7703 - precision_3: 0.8528 - recall_3: 0.6927 - val_loss: 2.2421 - val_accuracy: 0.4793 - val_precision_3: 0.5376 - val_recall_3: 0.4248 - lr: 1.6000e-04\n",
      "Epoch 97/120\n",
      "80/80 [==============================] - ETA: 0s - loss: 0.5855 - accuracy: 0.7729 - precision_3: 0.8533 - recall_3: 0.6973\n",
      "Epoch 97: val_loss did not improve from 1.33210\n",
      "80/80 [==============================] - 1s 12ms/step - loss: 0.5855 - accuracy: 0.7729 - precision_3: 0.8533 - recall_3: 0.6973 - val_loss: 2.2260 - val_accuracy: 0.4791 - val_precision_3: 0.5356 - val_recall_3: 0.4153 - lr: 1.6000e-04\n",
      "Epoch 98/120\n",
      "78/80 [============================>.] - ETA: 0s - loss: 0.5859 - accuracy: 0.7721 - precision_3: 0.8521 - recall_3: 0.6951\n",
      "Epoch 98: val_loss did not improve from 1.33210\n",
      "80/80 [==============================] - 1s 12ms/step - loss: 0.5864 - accuracy: 0.7715 - precision_3: 0.8514 - recall_3: 0.6942 - val_loss: 2.2415 - val_accuracy: 0.4772 - val_precision_3: 0.5306 - val_recall_3: 0.4110 - lr: 1.6000e-04\n",
      "Epoch 99/120\n",
      "75/80 [===========================>..] - ETA: 0s - loss: 0.5852 - accuracy: 0.7729 - precision_3: 0.8530 - recall_3: 0.6964\n",
      "Epoch 99: val_loss did not improve from 1.33210\n",
      "80/80 [==============================] - 1s 11ms/step - loss: 0.5861 - accuracy: 0.7725 - precision_3: 0.8523 - recall_3: 0.6948 - val_loss: 2.2489 - val_accuracy: 0.4799 - val_precision_3: 0.5390 - val_recall_3: 0.4232 - lr: 1.6000e-04\n",
      "Epoch 100/120\n",
      "77/80 [===========================>..] - ETA: 0s - loss: 0.5680 - accuracy: 0.7790 - precision_3: 0.8592 - recall_3: 0.7042\n",
      "Epoch 100: val_loss did not improve from 1.33210\n",
      "80/80 [==============================] - 1s 12ms/step - loss: 0.5675 - accuracy: 0.7793 - precision_3: 0.8591 - recall_3: 0.7043 - val_loss: 2.2618 - val_accuracy: 0.4776 - val_precision_3: 0.5359 - val_recall_3: 0.4187 - lr: 6.4000e-05\n",
      "Epoch 101/120\n",
      "76/80 [===========================>..] - ETA: 0s - loss: 0.5718 - accuracy: 0.7759 - precision_3: 0.8596 - recall_3: 0.7041\n",
      "Epoch 101: val_loss did not improve from 1.33210\n",
      "80/80 [==============================] - 1s 11ms/step - loss: 0.5713 - accuracy: 0.7756 - precision_3: 0.8591 - recall_3: 0.7042 - val_loss: 2.2719 - val_accuracy: 0.4766 - val_precision_3: 0.5347 - val_recall_3: 0.4189 - lr: 6.4000e-05\n",
      "Epoch 102/120\n",
      "76/80 [===========================>..] - ETA: 0s - loss: 0.5602 - accuracy: 0.7812 - precision_3: 0.8611 - recall_3: 0.7088\n",
      "Epoch 102: val_loss did not improve from 1.33210\n",
      "80/80 [==============================] - 1s 12ms/step - loss: 0.5597 - accuracy: 0.7817 - precision_3: 0.8618 - recall_3: 0.7087 - val_loss: 2.2748 - val_accuracy: 0.4764 - val_precision_3: 0.5348 - val_recall_3: 0.4173 - lr: 6.4000e-05\n",
      "Epoch 103/120\n",
      "75/80 [===========================>..] - ETA: 0s - loss: 0.5556 - accuracy: 0.7820 - precision_3: 0.8615 - recall_3: 0.7103\n",
      "Epoch 103: val_loss did not improve from 1.33210\n",
      "80/80 [==============================] - 1s 12ms/step - loss: 0.5551 - accuracy: 0.7829 - precision_3: 0.8629 - recall_3: 0.7111 - val_loss: 2.2969 - val_accuracy: 0.4748 - val_precision_3: 0.5308 - val_recall_3: 0.4187 - lr: 6.4000e-05\n",
      "Epoch 104/120\n",
      "77/80 [===========================>..] - ETA: 0s - loss: 0.5614 - accuracy: 0.7816 - precision_3: 0.8603 - recall_3: 0.7060\n",
      "Epoch 104: val_loss did not improve from 1.33210\n",
      "80/80 [==============================] - 1s 12ms/step - loss: 0.5614 - accuracy: 0.7813 - precision_3: 0.8606 - recall_3: 0.7062 - val_loss: 2.2743 - val_accuracy: 0.4785 - val_precision_3: 0.5331 - val_recall_3: 0.4232 - lr: 6.4000e-05\n",
      "Epoch 105/120\n",
      "80/80 [==============================] - ETA: 0s - loss: 0.5576 - accuracy: 0.7821 - precision_3: 0.8577 - recall_3: 0.7126\n",
      "Epoch 105: val_loss did not improve from 1.33210\n",
      "80/80 [==============================] - 1s 12ms/step - loss: 0.5576 - accuracy: 0.7821 - precision_3: 0.8577 - recall_3: 0.7126 - val_loss: 2.2814 - val_accuracy: 0.4748 - val_precision_3: 0.5336 - val_recall_3: 0.4181 - lr: 6.4000e-05\n",
      "Epoch 106/120\n",
      "77/80 [===========================>..] - ETA: 0s - loss: 0.5550 - accuracy: 0.7856 - precision_3: 0.8633 - recall_3: 0.7169\n",
      "Epoch 106: val_loss did not improve from 1.33210\n",
      "80/80 [==============================] - 1s 11ms/step - loss: 0.5555 - accuracy: 0.7855 - precision_3: 0.8633 - recall_3: 0.7162 - val_loss: 2.2893 - val_accuracy: 0.4781 - val_precision_3: 0.5365 - val_recall_3: 0.4236 - lr: 2.5600e-05\n",
      "Epoch 107/120\n",
      "76/80 [===========================>..] - ETA: 0s - loss: 0.5482 - accuracy: 0.7878 - precision_3: 0.8633 - recall_3: 0.7140\n",
      "Epoch 107: val_loss did not improve from 1.33210\n",
      "80/80 [==============================] - 1s 11ms/step - loss: 0.5489 - accuracy: 0.7879 - precision_3: 0.8628 - recall_3: 0.7132 - val_loss: 2.3045 - val_accuracy: 0.4766 - val_precision_3: 0.5349 - val_recall_3: 0.4197 - lr: 2.5600e-05\n",
      "Epoch 108/120\n",
      "75/80 [===========================>..] - ETA: 0s - loss: 0.5480 - accuracy: 0.7855 - precision_3: 0.8631 - recall_3: 0.7124\n",
      "Epoch 108: val_loss did not improve from 1.33210\n",
      "80/80 [==============================] - 1s 12ms/step - loss: 0.5479 - accuracy: 0.7861 - precision_3: 0.8631 - recall_3: 0.7130 - val_loss: 2.3136 - val_accuracy: 0.4758 - val_precision_3: 0.5328 - val_recall_3: 0.4220 - lr: 2.5600e-05\n",
      "Epoch 109/120\n",
      "80/80 [==============================] - ETA: 0s - loss: 0.5469 - accuracy: 0.7853 - precision_3: 0.8603 - recall_3: 0.7146\n",
      "Epoch 109: val_loss did not improve from 1.33210\n",
      "80/80 [==============================] - 1s 12ms/step - loss: 0.5469 - accuracy: 0.7853 - precision_3: 0.8603 - recall_3: 0.7146 - val_loss: 2.3240 - val_accuracy: 0.4740 - val_precision_3: 0.5354 - val_recall_3: 0.4232 - lr: 2.5600e-05\n",
      "Epoch 110/120\n",
      "78/80 [============================>.] - ETA: 0s - loss: 0.5422 - accuracy: 0.7881 - precision_3: 0.8611 - recall_3: 0.7186\n",
      "Epoch 110: val_loss did not improve from 1.33210\n",
      "80/80 [==============================] - 1s 12ms/step - loss: 0.5427 - accuracy: 0.7878 - precision_3: 0.8617 - recall_3: 0.7187 - val_loss: 2.3213 - val_accuracy: 0.4742 - val_precision_3: 0.5298 - val_recall_3: 0.4197 - lr: 2.5600e-05\n",
      "Epoch 111/120\n",
      "78/80 [============================>.] - ETA: 0s - loss: 0.5494 - accuracy: 0.7897 - precision_3: 0.8648 - recall_3: 0.7189\n",
      "Epoch 111: val_loss did not improve from 1.33210\n",
      "80/80 [==============================] - 1s 12ms/step - loss: 0.5512 - accuracy: 0.7888 - precision_3: 0.8642 - recall_3: 0.7181 - val_loss: 2.3182 - val_accuracy: 0.4766 - val_precision_3: 0.5330 - val_recall_3: 0.4230 - lr: 2.5600e-05\n",
      "Epoch 112/120\n",
      "76/80 [===========================>..] - ETA: 0s - loss: 0.5454 - accuracy: 0.7869 - precision_3: 0.8662 - recall_3: 0.7152\n",
      "Epoch 112: val_loss did not improve from 1.33210\n",
      "80/80 [==============================] - 1s 11ms/step - loss: 0.5442 - accuracy: 0.7875 - precision_3: 0.8660 - recall_3: 0.7157 - val_loss: 2.3145 - val_accuracy: 0.4768 - val_precision_3: 0.5330 - val_recall_3: 0.4216 - lr: 2.5600e-05\n",
      "Epoch 113/120\n",
      "76/80 [===========================>..] - ETA: 0s - loss: 0.5486 - accuracy: 0.7876 - precision_3: 0.8612 - recall_3: 0.7153\n",
      "Epoch 113: val_loss did not improve from 1.33210\n",
      "80/80 [==============================] - 1s 11ms/step - loss: 0.5474 - accuracy: 0.7881 - precision_3: 0.8616 - recall_3: 0.7157 - val_loss: 2.3206 - val_accuracy: 0.4766 - val_precision_3: 0.5339 - val_recall_3: 0.4222 - lr: 1.0240e-05\n",
      "Epoch 114/120\n",
      "76/80 [===========================>..] - ETA: 0s - loss: 0.5385 - accuracy: 0.7916 - precision_3: 0.8647 - recall_3: 0.7221\n",
      "Epoch 114: val_loss did not improve from 1.33210\n",
      "80/80 [==============================] - 1s 11ms/step - loss: 0.5390 - accuracy: 0.7909 - precision_3: 0.8636 - recall_3: 0.7212 - val_loss: 2.3221 - val_accuracy: 0.4787 - val_precision_3: 0.5359 - val_recall_3: 0.4238 - lr: 1.0240e-05\n",
      "Epoch 115/120\n",
      "79/80 [============================>.] - ETA: 0s - loss: 0.5421 - accuracy: 0.7886 - precision_3: 0.8600 - recall_3: 0.7185\n",
      "Epoch 115: val_loss did not improve from 1.33210\n",
      "80/80 [==============================] - 1s 11ms/step - loss: 0.5418 - accuracy: 0.7887 - precision_3: 0.8601 - recall_3: 0.7185 - val_loss: 2.3234 - val_accuracy: 0.4770 - val_precision_3: 0.5357 - val_recall_3: 0.4230 - lr: 1.0240e-05\n",
      "Epoch 116/120\n",
      "76/80 [===========================>..] - ETA: 0s - loss: 0.5465 - accuracy: 0.7873 - precision_3: 0.8622 - recall_3: 0.7159\n",
      "Epoch 116: val_loss did not improve from 1.33210\n",
      "80/80 [==============================] - 1s 11ms/step - loss: 0.5477 - accuracy: 0.7866 - precision_3: 0.8617 - recall_3: 0.7150 - val_loss: 2.3256 - val_accuracy: 0.4758 - val_precision_3: 0.5340 - val_recall_3: 0.4220 - lr: 1.0240e-05\n",
      "Epoch 117/120\n",
      "75/80 [===========================>..] - ETA: 0s - loss: 0.5323 - accuracy: 0.7914 - precision_3: 0.8668 - recall_3: 0.7221\n",
      "Epoch 117: val_loss did not improve from 1.33210\n",
      "80/80 [==============================] - 1s 12ms/step - loss: 0.5349 - accuracy: 0.7897 - precision_3: 0.8652 - recall_3: 0.7206 - val_loss: 2.3290 - val_accuracy: 0.4744 - val_precision_3: 0.5340 - val_recall_3: 0.4220 - lr: 4.0960e-06\n",
      "Epoch 118/120\n",
      "76/80 [===========================>..] - ETA: 0s - loss: 0.5358 - accuracy: 0.7870 - precision_3: 0.8632 - recall_3: 0.7195\n",
      "Epoch 118: val_loss did not improve from 1.33210\n",
      "80/80 [==============================] - 1s 12ms/step - loss: 0.5373 - accuracy: 0.7869 - precision_3: 0.8634 - recall_3: 0.7194 - val_loss: 2.3292 - val_accuracy: 0.4754 - val_precision_3: 0.5350 - val_recall_3: 0.4226 - lr: 4.0960e-06\n",
      "Epoch 119/120\n",
      "79/80 [============================>.] - ETA: 0s - loss: 0.5359 - accuracy: 0.7933 - precision_3: 0.8646 - recall_3: 0.7235\n",
      "Epoch 119: val_loss did not improve from 1.33210\n",
      "80/80 [==============================] - 1s 12ms/step - loss: 0.5359 - accuracy: 0.7935 - precision_3: 0.8648 - recall_3: 0.7235 - val_loss: 2.3324 - val_accuracy: 0.4752 - val_precision_3: 0.5347 - val_recall_3: 0.4228 - lr: 4.0960e-06\n",
      "Epoch 120/120\n",
      "79/80 [============================>.] - ETA: 0s - loss: 0.5417 - accuracy: 0.7895 - precision_3: 0.8613 - recall_3: 0.7188\n",
      "Epoch 120: val_loss did not improve from 1.33210\n",
      "80/80 [==============================] - 1s 12ms/step - loss: 0.5425 - accuracy: 0.7890 - precision_3: 0.8610 - recall_3: 0.7183 - val_loss: 2.3324 - val_accuracy: 0.4752 - val_precision_3: 0.5347 - val_recall_3: 0.4228 - lr: 1.6384e-06\n"
     ]
    }
   ],
   "source": [
    "rlrp = ReduceLROnPlateau(monitor='loss', factor=0.4, verbose=0, patience=2, min_lr=1e-7)\n",
    "ckpt = ModelCheckpoint('checkpoint', monitor='val_loss', save_best_only=True, mode='min', verbose=1)\n",
    "history = model.fit(train_X, train_y, batch_size=BATCH_SIZE, epochs=EPOCHS, validation_data=(test_X, test_y), callbacks=[rlrp, ckpt])"
   ]
  },
  {
   "cell_type": "code",
   "execution_count": 44,
   "metadata": {},
   "outputs": [
    {
     "data": {
      "image/png": "[encoded data removed]",
      "text/plain": [
       "<Figure size 1400x600 with 2 Axes>"
      ]
     },
     "metadata": {},
     "output_type": "display_data"
    }
   ],
   "source": [
    "history.history.keys()\n",
    "def plot_loss(history, model_name):\n",
    "    history = history.history\n",
    "    train_loss, train_acc = history['loss'], history['accuracy']\n",
    "    test_loss, test_acc = history['val_loss'], history['val_accuracy']\n",
    "    epoch = list(range(1, EPOCHS+1))\n",
    "\n",
    "    fig, axes = plt.subplots(1, 2, figsize=(14, 6))\n",
    "    plt.suptitle(f'{model_name} Training History')\n",
    "    axes[0].plot(epoch, train_loss, label='train_loss')\n",
    "    axes[0].plot(epoch, test_loss, label='test_loss')\n",
    "    axes[0].set_xlabel('Epochs'), axes[0].set_ylabel('Loss'), axes[0].legend()\n",
    "\n",
    "    axes[1].plot(epoch, train_acc, label='train_acc')\n",
    "    axes[1].plot(epoch, test_acc, label='test_acc')\n",
    "    axes[1].set_xlabel('Epochs'), axes[1].set_ylabel('Accuracy'), axes[1].legend()\n",
    "\n",
    "plot_loss(history, 'Baseline 1D-CNN')"
   ]
  },
  {
   "cell_type": "code",
   "execution_count": 46,
   "metadata": {},
   "outputs": [
    {
     "name": "stdout",
     "output_type": "stream",
     "text": [
      "159/159 [==============================] - 1s 3ms/step\n",
      "              precision    recall  f1-score   support\n",
      "\n",
      "       angry       0.71      0.34      0.46       694\n",
      "        calm       0.48      0.61      0.53        38\n",
      "     disgust       0.54      0.31      0.40       445\n",
      "        fear       0.64      0.41      0.50       444\n",
      "       happy       0.51      0.25      0.33       834\n",
      "     neutral       0.47      0.92      0.62      1604\n",
      "         sad       0.56      0.41      0.47       573\n",
      "    surprise       0.61      0.24      0.35       446\n",
      "\n",
      "    accuracy                           0.51      5078\n",
      "   macro avg       0.56      0.43      0.46      5078\n",
      "weighted avg       0.55      0.51      0.48      5078\n",
      "\n"
     ]
    }
   ],
   "source": [
    "from tensorflow.keras.models import load_model\n",
    "model = load_model('checkpoint')\n",
    "pred_y = model.predict(test_X)\n",
    "pred_y_in = ohec.inverse_transform(pred_y)\n",
    "test_y_in = ohec.inverse_transform(test_y)\n",
    "print(classification_report(test_y_in, pred_y_in, target_names=lbec.classes_))"
   ]
  },
  {
   "cell_type": "code",
   "execution_count": 56,
   "metadata": {},
   "outputs": [
    {
     "data": {
      "text/plain": [
       "['angry', 'calm', 'disgust', 'fear', 'happy', 'neutral', 'sad', 'surprise']"
      ]
     },
     "execution_count": 56,
     "metadata": {},
     "output_type": "execute_result"
    }
   ],
   "source": []
  },
  {
   "cell_type": "code",
   "execution_count": 57,
   "metadata": {},
   "outputs": [
    {
     "data": {
      "text/plain": [
       "Text(85.22222222222221, 0.5, 'Actual Labels')"
      ]
     },
     "execution_count": 57,
     "metadata": {},
     "output_type": "execute_result"
    },
    {
     "data": {
      "image/png": "[encoded data removed]",
      "text/plain": [
       "<Figure size 900x600 with 2 Axes>"
      ]
     },
     "metadata": {},
     "output_type": "display_data"
    }
   ],
   "source": [
    "cm = pd.DataFrame(confusion_matrix(test_y_in, pred_y_in), index=[i for i in lbec.classes_], columns=[i for i in lbec.classes_])\n",
    "\n",
    "fig, ax = plt.subplots(figsize=(9, 6))\n",
    "sns.heatmap(cm, linecolor='white', cmap='Blues', annot=True, ax=ax, fmt='g')\n",
    "ax.set_title('Confusion Matrix')\n",
    "ax.set_xlabel('Predicted Labels')\n",
    "ax.set_ylabel('Actual Labels')"
   ]
  },
  {
   "cell_type": "code",
   "execution_count": null,
   "metadata": {},
   "outputs": [],
   "source": []
  }
 ],
 "metadata": {
  "kernelspec": {
   "display_name": "jupyterhub",
   "language": "python",
   "name": "jupyterhub"
  },
  "language_info": {
   "codemirror_mode": {
    "name": "ipython",
    "version": 3
   },
   "file_extension": ".py",
   "mimetype": "text/x-python",
   "name": "python",
   "nbconvert_exporter": "python",
   "pygments_lexer": "ipython3",
   "version": "3.9.13"
  },
  "orig_nbformat": 4
 },
 "nbformat": 4,
 "nbformat_minor": 2
}
